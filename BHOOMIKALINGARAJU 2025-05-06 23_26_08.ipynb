{
 "metadata": {
  "kernelspec": {
   "display_name": "Streamlit Notebook",
   "name": "streamlit"
  },
  "lastEditStatus": {
   "notebookId": "jbonu33vzhsdsvytz6nx",
   "authorId": "6273624466951",
   "authorName": "BHOOMIKALINGARAJU",
   "authorEmail": "mudegowdrulingaraj.b@northeastern.edu",
   "sessionId": "27124237-1abe-4543-a94e-7ac247f3ec05",
   "lastEditTime": 1746594170933
  }
 },
 "nbformat_minor": 5,
 "nbformat": 4,
 "cells": [
  {
   "cell_type": "markdown",
   "id": "c8841429-d88a-4bec-923a-cadb343eac1e",
   "metadata": {
    "name": "md_title",
    "collapsed": false
   },
   "source": "# solubility project\n\nThis is the \"bioinformatic project\" from the scratch form the work of 'Delaney\n'"
  },
  {
   "cell_type": "markdown",
   "id": "ef726bfe-9483-431c-8e9c-2506c2b3420b",
   "metadata": {
    "name": "cell5",
    "collapsed": false
   },
   "source": "Load data\nHere, we're loading the Delaney data set (reference- https://pubs.acs.org/doi/10.1021/ci034243x)"
  },
  {
   "cell_type": "code",
   "id": "f1a38078-f834-4d90-ac5f-1644d7551230",
   "metadata": {
    "language": "sql",
    "name": "sql_data"
   },
   "outputs": [],
   "source": "SELECT * FROM BIOINFORMATIC_PROJECT. PUBLIC.SOLUBILTY",
   "execution_count": null
  },
  {
   "cell_type": "code",
   "id": "cc7204c9-75cf-4745-b187-b148406195cd",
   "metadata": {
    "language": "python",
    "name": "df"
   },
   "outputs": [],
   "source": "sql_data.to_pandas()",
   "execution_count": null
  },
  {
   "cell_type": "code",
   "id": "42ad4b54-4ae9-4edf-84fd-aef69d64d1cd",
   "metadata": {
    "language": "python",
    "name": "cell1",
    "codeCollapsed": false
   },
   "outputs": [],
   "source": "df",
   "execution_count": null
  },
  {
   "cell_type": "code",
   "id": "97f42df5-1fff-43d2-a390-8428d7f340b4",
   "metadata": {
    "language": "python",
    "name": "cell2",
    "codeCollapsed": false
   },
   "outputs": [],
   "source": "df['MOLWT_CLASS'] = pd.Series(['small' if x < 300 else 'large' for x in df['MOLWT']])\ndf\n     ",
   "execution_count": null
  },
  {
   "cell_type": "markdown",
   "id": "620f1b3a-a7d2-4223-9556-21546822d0fb",
   "metadata": {
    "name": "cell3",
    "collapsed": false
   },
   "source": "Data Aggregation\nHere, we're aggregating the data (grouping it) by its molecular weight:\n\nsmall if <300\n\nlarge if >= 300"
  },
  {
   "cell_type": "code",
   "id": "c9cec331-739a-49f1-8f44-59bfea3586b5",
   "metadata": {
    "language": "python",
    "name": "py_class",
    "codeCollapsed": false
   },
   "outputs": [],
   "source": "df_class = df.groupby('MOLWT_CLASS').mean().reset_index()\ndf_class",
   "execution_count": null
  },
  {
   "cell_type": "code",
   "id": "fa524c4f-4271-4603-9488-7efca2ba5d70",
   "metadata": {
    "language": "python",
    "name": "cell4",
    "codeCollapsed": false
   },
   "outputs": [],
   "source": "import streamlit as st\n\nst.subheader('Molecular Weight (MOLWT)')\n\nst.bar_chart(df_class, x='MOLWT_CLASS', y='MOLWT', color='MOLWT_CLASS', stack=True)",
   "execution_count": null
  },
  {
   "cell_type": "code",
   "id": "d3a981f1-6804-41d0-80e8-57466e011329",
   "metadata": {
    "language": "python",
    "name": "cell6"
   },
   "outputs": [],
   "source": "df_class['MOLWT'][0]",
   "execution_count": null
  },
  {
   "cell_type": "markdown",
   "id": "fb1f654c-15d7-4c27-a621-2859a511a7cc",
   "metadata": {
    "name": "cell8",
    "collapsed": false
   },
   "source": "# Building a Solubility Dashboard"
  },
  {
   "cell_type": "code",
   "id": "463a5c19-e104-4a30-8055-fea0da84b893",
   "metadata": {
    "language": "python",
    "name": "py_app",
    "codeCollapsed": false
   },
   "outputs": [],
   "source": "import streamlit as st\n\nst.title('☘️ Solubility Dashboard')\n\n# Data Filtering\nmol_size = st.slider('Select a value', 100, 500, 300)\ndf['MOLWT_CLASS'] = pd.Series(['small' if x < mol_size else 'large' for x in df['MOLWT']])\ndf_class = df.groupby('MOLWT_CLASS').mean().reset_index()\n\nst.divider()\n\n# Calculate Metrics\nmolwt_large = round(df_class['MOLWT'][0], 2)\nmolwt_small = round(df_class['MOLWT'][1], 2)\nnumrotatablebonds_large = round(df_class['NUMROTATABLEBONDS'][0], 2)\nnumrotatablebonds_small = round(df_class['NUMROTATABLEBONDS'][1], 2)\nmollogp_large = round(df_class['MOLLOGP'][0], 2)\nmollogp_small = round(df_class['MOLLOGP'][1], 2)\naromaticproportion_large = round(df_class['AROMATICPROPORTION'][0], 2)\naromaticproportion_small = round(df_class['AROMATICPROPORTION'][1], 2)\n\n# Data metrics and visualizations\ncol = st.columns(2)\nwith col[0]:\n    st.subheader('Molecular Weight')\n    st.metric('Large', molwt_large)\n    st.metric('Small', molwt_small)\n    st.bar_chart(df_class, x='MOLWT_CLASS', y='MOLWT', color='MOLWT_CLASS')\n\n    st.subheader('Number of Rotatable Bonds')\n    st.metric('Large', numrotatablebonds_large)\n    st.metric('Small', numrotatablebonds_small)\n    st.bar_chart(df_class, x='MOLWT_CLASS', y='NUMROTATABLEBONDS', color='MOLWT_CLASS')\nwith col[1]:\n    st.subheader('Molecular LogP')\n    st.metric('Large', mollogp_large)\n    st.metric('Small', mollogp_small)\n    st.bar_chart(df_class, x='MOLWT_CLASS', y='MOLLOGP', color='MOLWT_CLASS')\n\n    st.subheader('Aromatic Proportion')\n    st.metric('Large', mollogp_large)\n    st.metric('Small', mollogp_small)\n    st.bar_chart(df_class, x='MOLWT_CLASS', y='AROMATICPROPORTION', color='MOLWT_CLASS')\n\nwith st.expander('Show Original DataFrame'):\n    st.dataframe(df)\nwith st.expander('Show Aggregated DataFrame'):\n    st.dataframe(df_class)",
   "execution_count": null
  },
  {
   "cell_type": "code",
   "id": "251f2045-d54d-4f19-ad8a-e555848337d4",
   "metadata": {
    "language": "python",
    "name": "cell7"
   },
   "outputs": [],
   "source": "",
   "execution_count": null
  }
 ]
}