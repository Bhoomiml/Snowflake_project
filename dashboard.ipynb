{
 "cells": [
  {
   "cell_type": "markdown",
   "id": "c8841429-d88a-4bec-923a-cadb343eac1e",
   "metadata": {
    "collapsed": false,
    "jupyter": {
     "outputs_hidden": false
    },
    "name": "md_title"
   },
   "source": [
    "# solubility project\n",
    "\n",
    "This is the \"bioinformatic project\" from the scratch form the work of 'Delaney\n",
    "'"
   ]
  },
  {
   "cell_type": "markdown",
   "id": "ef726bfe-9483-431c-8e9c-2506c2b3420b",
   "metadata": {
    "collapsed": false,
    "jupyter": {
     "outputs_hidden": false
    },
    "name": "cell5"
   },
   "source": [
    "Load data\n",
    "Here, we're loading the Delaney data set (reference- https://pubs.acs.org/doi/10.1021/ci034243x)"
   ]
  },
  {
   "cell_type": "code",
   "execution_count": null,
   "id": "f1a38078-f834-4d90-ac5f-1644d7551230",
   "metadata": {
    "language": "sql",
    "name": "sql_data"
   },
   "outputs": [],
   "source": [
    "SELECT * FROM BIOINFORMATIC_PROJECT. PUBLIC.SOLUBILTY"
   ]
  },
  {
   "cell_type": "code",
   "execution_count": null,
   "id": "cc7204c9-75cf-4745-b187-b148406195cd",
   "metadata": {
    "language": "python",
    "name": "df"
   },
   "outputs": [],
   "source": [
    "sql_data.to_pandas()"
   ]
  },
  {
   "cell_type": "code",
   "execution_count": null,
   "id": "42ad4b54-4ae9-4edf-84fd-aef69d64d1cd",
   "metadata": {
    "codeCollapsed": false,
    "language": "python",
    "name": "cell1"
   },
   "outputs": [],
   "source": [
    "df"
   ]
  },
  {
   "cell_type": "code",
   "execution_count": null,
   "id": "97f42df5-1fff-43d2-a390-8428d7f340b4",
   "metadata": {
    "codeCollapsed": false,
    "language": "python",
    "name": "cell2"
   },
   "outputs": [],
   "source": [
    "df['MOLWT_CLASS'] = pd.Series(['small' if x < 300 else 'large' for x in df['MOLWT']])\n",
    "df\n",
    "     "
   ]
  },
  {
   "cell_type": "markdown",
   "id": "620f1b3a-a7d2-4223-9556-21546822d0fb",
   "metadata": {
    "collapsed": false,
    "jupyter": {
     "outputs_hidden": false
    },
    "name": "cell3"
   },
   "source": [
    "Data Aggregation\n",
    "Here, we're aggregating the data (grouping it) by its molecular weight:\n",
    "\n",
    "small if <300\n",
    "\n",
    "large if >= 300"
   ]
  },
  {
   "cell_type": "code",
   "execution_count": null,
   "id": "c9cec331-739a-49f1-8f44-59bfea3586b5",
   "metadata": {
    "codeCollapsed": false,
    "language": "python",
    "name": "py_class"
   },
   "outputs": [],
   "source": [
    "df_class = df.groupby('MOLWT_CLASS').mean().reset_index()\n",
    "df_class"
   ]
  },
  {
   "cell_type": "code",
   "execution_count": null,
   "id": "fa524c4f-4271-4603-9488-7efca2ba5d70",
   "metadata": {
    "codeCollapsed": false,
    "language": "python",
    "name": "cell4"
   },
   "outputs": [],
   "source": [
    "import streamlit as st\n",
    "\n",
    "st.subheader('Molecular Weight (MOLWT)')\n",
    "\n",
    "st.bar_chart(df_class, x='MOLWT_CLASS', y='MOLWT', color='MOLWT_CLASS', stack=True)"
   ]
  },
  {
   "cell_type": "code",
   "execution_count": null,
   "id": "d3a981f1-6804-41d0-80e8-57466e011329",
   "metadata": {
    "language": "python",
    "name": "cell6"
   },
   "outputs": [],
   "source": [
    "df_class['MOLWT'][0]"
   ]
  },
  {
   "cell_type": "markdown",
   "id": "fb1f654c-15d7-4c27-a621-2859a511a7cc",
   "metadata": {
    "collapsed": false,
    "jupyter": {
     "outputs_hidden": false
    },
    "name": "cell8"
   },
   "source": [
    "# Building a Solubility Dashboard"
   ]
  },
  {
   "cell_type": "code",
   "execution_count": null,
   "id": "463a5c19-e104-4a30-8055-fea0da84b893",
   "metadata": {
    "codeCollapsed": false,
    "language": "python",
    "name": "py_app"
   },
   "outputs": [],
   "source": [
    "import streamlit as st\n",
    "\n",
    "st.title('☘️ Solubility Dashboard')\n",
    "\n",
    "# Data Filtering\n",
    "mol_size = st.slider('Select a value', 100, 500, 300)\n",
    "df['MOLWT_CLASS'] = pd.Series(['small' if x < mol_size else 'large' for x in df['MOLWT']])\n",
    "df_class = df.groupby('MOLWT_CLASS').mean().reset_index()\n",
    "\n",
    "st.divider()\n",
    "\n",
    "# Calculate Metrics\n",
    "molwt_large = round(df_class['MOLWT'][0], 2)\n",
    "molwt_small = round(df_class['MOLWT'][1], 2)\n",
    "numrotatablebonds_large = round(df_class['NUMROTATABLEBONDS'][0], 2)\n",
    "numrotatablebonds_small = round(df_class['NUMROTATABLEBONDS'][1], 2)\n",
    "mollogp_large = round(df_class['MOLLOGP'][0], 2)\n",
    "mollogp_small = round(df_class['MOLLOGP'][1], 2)\n",
    "aromaticproportion_large = round(df_class['AROMATICPROPORTION'][0], 2)\n",
    "aromaticproportion_small = round(df_class['AROMATICPROPORTION'][1], 2)\n",
    "\n",
    "# Data metrics and visualizations\n",
    "col = st.columns(2)\n",
    "with col[0]:\n",
    "    st.subheader('Molecular Weight')\n",
    "    st.metric('Large', molwt_large)\n",
    "    st.metric('Small', molwt_small)\n",
    "    st.bar_chart(df_class, x='MOLWT_CLASS', y='MOLWT', color='MOLWT_CLASS')\n",
    "\n",
    "    st.subheader('Number of Rotatable Bonds')\n",
    "    st.metric('Large', numrotatablebonds_large)\n",
    "    st.metric('Small', numrotatablebonds_small)\n",
    "    st.bar_chart(df_class, x='MOLWT_CLASS', y='NUMROTATABLEBONDS', color='MOLWT_CLASS')\n",
    "with col[1]:\n",
    "    st.subheader('Molecular LogP')\n",
    "    st.metric('Large', mollogp_large)\n",
    "    st.metric('Small', mollogp_small)\n",
    "    st.bar_chart(df_class, x='MOLWT_CLASS', y='MOLLOGP', color='MOLWT_CLASS')\n",
    "\n",
    "    st.subheader('Aromatic Proportion')\n",
    "    st.metric('Large', mollogp_large)\n",
    "    st.metric('Small', mollogp_small)\n",
    "    st.bar_chart(df_class, x='MOLWT_CLASS', y='AROMATICPROPORTION', color='MOLWT_CLASS')\n",
    "\n",
    "with st.expander('Show Original DataFrame'):\n",
    "    st.dataframe(df)\n",
    "with st.expander('Show Aggregated DataFrame'):\n",
    "    st.dataframe(df_class)"
   ]
  },
  {
   "cell_type": "code",
   "execution_count": null,
   "id": "251f2045-d54d-4f19-ad8a-e555848337d4",
   "metadata": {
    "language": "python",
    "name": "cell7"
   },
   "outputs": [],
   "source": []
  }
 ],
 "metadata": {
  "kernelspec": {
   "display_name": "Python 3 (ipykernel)",
   "language": "python",
   "name": "python3"
  },
  "language_info": {
   "codemirror_mode": {
    "name": "ipython",
    "version": 3
   },
   "file_extension": ".py",
   "mimetype": "text/x-python",
   "name": "python",
   "nbconvert_exporter": "python",
   "pygments_lexer": "ipython3",
   "version": "3.12.7"
  },
  "lastEditStatus": {
   "authorEmail": "mudegowdrulingaraj.b@northeastern.edu",
   "authorId": "6273624466951",
   "authorName": "BHOOMIKALINGARAJU",
   "lastEditTime": 1746594170933,
   "notebookId": "jbonu33vzhsdsvytz6nx",
   "sessionId": "27124237-1abe-4543-a94e-7ac247f3ec05"
  }
 },
 "nbformat": 4,
 "nbformat_minor": 5
}
